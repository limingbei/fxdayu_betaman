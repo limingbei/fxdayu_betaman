{
 "cells": [
  {
   "cell_type": "code",
   "execution_count": 1,
   "metadata": {
    "collapsed": true
   },
   "outputs": [],
   "source": [
    "# step 1:读取交割单\n",
    "import pymongo\n",
    "import pandas as pd\n",
    "strategy_id = 2\n",
    "pd.set_option(\"display.width\", 160)\n",
    "client = pymongo.MongoClient(\"mongodb://192.168.0.101,192.168.0.102\")\n",
    "c = client.get_database(\"signal\").get_collection(\"trade\")\n",
    "trades = c.find({\"strategy\": strategy_id}, {\"_id\": 0})\n",
    "tdf = pd.DataFrame(list(trades))\n",
    "if len(tdf):\n",
    "    tdf[\"datetime\"] = tdf[\"trading_datetime\"]"
   ]
  },
  {
   "cell_type": "code",
   "execution_count": 13,
   "metadata": {
    "collapsed": false
   },
   "outputs": [
    {
     "data": {
      "text/html": [
       "<div>\n",
       "<style>\n",
       "    .dataframe thead tr:only-child th {\n",
       "        text-align: right;\n",
       "    }\n",
       "\n",
       "    .dataframe thead th {\n",
       "        text-align: left;\n",
       "    }\n",
       "\n",
       "    .dataframe tbody tr th {\n",
       "        vertical-align: top;\n",
       "    }\n",
       "</style>\n",
       "<table border=\"1\" class=\"dataframe\">\n",
       "  <thead>\n",
       "    <tr style=\"text-align: right;\">\n",
       "      <th></th>\n",
       "      <th>commission</th>\n",
       "      <th>datetime</th>\n",
       "      <th>exec_id</th>\n",
       "      <th>last_price</th>\n",
       "      <th>last_quantity</th>\n",
       "      <th>order_book_id</th>\n",
       "      <th>order_id</th>\n",
       "      <th>position_effect</th>\n",
       "      <th>side</th>\n",
       "      <th>strategy</th>\n",
       "      <th>symbol</th>\n",
       "      <th>tax</th>\n",
       "      <th>trading_datetime</th>\n",
       "      <th>transaction_cost</th>\n",
       "    </tr>\n",
       "  </thead>\n",
       "  <tbody>\n",
       "    <tr>\n",
       "      <th>0</th>\n",
       "      <td>79.7880</td>\n",
       "      <td>2016-10-26 15:00:00</td>\n",
       "      <td>1510296142</td>\n",
       "      <td>9.15</td>\n",
       "      <td>10900</td>\n",
       "      <td>000001.XSHE</td>\n",
       "      <td>1510296141</td>\n",
       "      <td>None</td>\n",
       "      <td>BUY</td>\n",
       "      <td>2</td>\n",
       "      <td>平安银行</td>\n",
       "      <td>0.000</td>\n",
       "      <td>2016-10-26 15:00:00</td>\n",
       "      <td>79.7880</td>\n",
       "    </tr>\n",
       "    <tr>\n",
       "      <th>1</th>\n",
       "      <td>81.1832</td>\n",
       "      <td>2017-03-17 15:00:00</td>\n",
       "      <td>1510296143</td>\n",
       "      <td>9.31</td>\n",
       "      <td>10900</td>\n",
       "      <td>000001.XSHE</td>\n",
       "      <td>1510296143</td>\n",
       "      <td>None</td>\n",
       "      <td>SELL</td>\n",
       "      <td>2</td>\n",
       "      <td>平安银行</td>\n",
       "      <td>101.479</td>\n",
       "      <td>2017-03-17 15:00:00</td>\n",
       "      <td>182.6622</td>\n",
       "    </tr>\n",
       "    <tr>\n",
       "      <th>2</th>\n",
       "      <td>80.8080</td>\n",
       "      <td>2017-05-26 15:00:00</td>\n",
       "      <td>1510296144</td>\n",
       "      <td>9.10</td>\n",
       "      <td>11100</td>\n",
       "      <td>000001.XSHE</td>\n",
       "      <td>1510296144</td>\n",
       "      <td>None</td>\n",
       "      <td>BUY</td>\n",
       "      <td>2</td>\n",
       "      <td>平安银行</td>\n",
       "      <td>0.000</td>\n",
       "      <td>2017-05-26 15:00:00</td>\n",
       "      <td>80.8080</td>\n",
       "    </tr>\n",
       "    <tr>\n",
       "      <th>3</th>\n",
       "      <td>79.7880</td>\n",
       "      <td>2016-10-26 15:00:00</td>\n",
       "      <td>1510296176</td>\n",
       "      <td>9.15</td>\n",
       "      <td>10900</td>\n",
       "      <td>000001.XSHE</td>\n",
       "      <td>1510296175</td>\n",
       "      <td>None</td>\n",
       "      <td>BUY</td>\n",
       "      <td>2</td>\n",
       "      <td>平安银行</td>\n",
       "      <td>0.000</td>\n",
       "      <td>2016-10-26 15:00:00</td>\n",
       "      <td>79.7880</td>\n",
       "    </tr>\n",
       "    <tr>\n",
       "      <th>4</th>\n",
       "      <td>81.1832</td>\n",
       "      <td>2017-03-17 15:00:00</td>\n",
       "      <td>1510296177</td>\n",
       "      <td>9.31</td>\n",
       "      <td>10900</td>\n",
       "      <td>000001.XSHE</td>\n",
       "      <td>1510296177</td>\n",
       "      <td>None</td>\n",
       "      <td>SELL</td>\n",
       "      <td>2</td>\n",
       "      <td>平安银行</td>\n",
       "      <td>101.479</td>\n",
       "      <td>2017-03-17 15:00:00</td>\n",
       "      <td>182.6622</td>\n",
       "    </tr>\n",
       "  </tbody>\n",
       "</table>\n",
       "</div>"
      ],
      "text/plain": [
       "   commission            datetime     exec_id  last_price  last_quantity order_book_id    order_id position_effect  side  strategy symbol      tax  \\\n",
       "0     79.7880 2016-10-26 15:00:00  1510296142        9.15          10900   000001.XSHE  1510296141            None   BUY         2   平安银行    0.000   \n",
       "1     81.1832 2017-03-17 15:00:00  1510296143        9.31          10900   000001.XSHE  1510296143            None  SELL         2   平安银行  101.479   \n",
       "2     80.8080 2017-05-26 15:00:00  1510296144        9.10          11100   000001.XSHE  1510296144            None   BUY         2   平安银行    0.000   \n",
       "3     79.7880 2016-10-26 15:00:00  1510296176        9.15          10900   000001.XSHE  1510296175            None   BUY         2   平安银行    0.000   \n",
       "4     81.1832 2017-03-17 15:00:00  1510296177        9.31          10900   000001.XSHE  1510296177            None  SELL         2   平安银行  101.479   \n",
       "\n",
       "      trading_datetime  transaction_cost  \n",
       "0  2016-10-26 15:00:00           79.7880  \n",
       "1  2017-03-17 15:00:00          182.6622  \n",
       "2  2017-05-26 15:00:00           80.8080  \n",
       "3  2016-10-26 15:00:00           79.7880  \n",
       "4  2017-03-17 15:00:00          182.6622  "
      ]
     },
     "execution_count": 13,
     "metadata": {},
     "output_type": "execute_result"
    }
   ],
   "source": [
    "tdf.head()"
   ]
  },
  {
   "cell_type": "code",
   "execution_count": 4,
   "metadata": {
    "collapsed": true
   },
   "outputs": [],
   "source": [
    "from fxdayu_betaman.calculator.analysis import Performance\n",
    "perf = Performance(tdf,10000000) # 传入交割单 传入起始资金"
   ]
  },
  {
   "cell_type": "code",
   "execution_count": 16,
   "metadata": {
    "collapsed": false
   },
   "outputs": [
    {
     "data": {
      "text/html": [
       "<div>\n",
       "<style>\n",
       "    .dataframe thead tr:only-child th {\n",
       "        text-align: right;\n",
       "    }\n",
       "\n",
       "    .dataframe thead th {\n",
       "        text-align: left;\n",
       "    }\n",
       "\n",
       "    .dataframe tbody tr th {\n",
       "        vertical-align: top;\n",
       "    }\n",
       "</style>\n",
       "<table border=\"1\" class=\"dataframe\">\n",
       "  <thead>\n",
       "    <tr style=\"text-align: right;\">\n",
       "      <th></th>\n",
       "      <th>symbol</th>\n",
       "      <th>amount</th>\n",
       "      <th>price</th>\n",
       "    </tr>\n",
       "    <tr>\n",
       "      <th>datetime</th>\n",
       "      <th></th>\n",
       "      <th></th>\n",
       "      <th></th>\n",
       "    </tr>\n",
       "  </thead>\n",
       "  <tbody>\n",
       "    <tr>\n",
       "      <th>2016-10-26 15:00:00</th>\n",
       "      <td>000001.XSHE</td>\n",
       "      <td>10900</td>\n",
       "      <td>9.15</td>\n",
       "    </tr>\n",
       "    <tr>\n",
       "      <th>2016-10-26 15:00:00</th>\n",
       "      <td>000001.XSHE</td>\n",
       "      <td>10900</td>\n",
       "      <td>9.15</td>\n",
       "    </tr>\n",
       "    <tr>\n",
       "      <th>2016-10-26 15:00:00</th>\n",
       "      <td>000001.XSHE</td>\n",
       "      <td>10900</td>\n",
       "      <td>9.15</td>\n",
       "    </tr>\n",
       "    <tr>\n",
       "      <th>2016-10-26 15:00:00</th>\n",
       "      <td>000001.XSHE</td>\n",
       "      <td>10900</td>\n",
       "      <td>9.15</td>\n",
       "    </tr>\n",
       "    <tr>\n",
       "      <th>2016-10-26 15:00:00</th>\n",
       "      <td>000001.XSHE</td>\n",
       "      <td>10900</td>\n",
       "      <td>9.15</td>\n",
       "    </tr>\n",
       "    <tr>\n",
       "      <th>2017-03-17 15:00:00</th>\n",
       "      <td>000001.XSHE</td>\n",
       "      <td>-10900</td>\n",
       "      <td>9.31</td>\n",
       "    </tr>\n",
       "    <tr>\n",
       "      <th>2017-03-17 15:00:00</th>\n",
       "      <td>000001.XSHE</td>\n",
       "      <td>-10900</td>\n",
       "      <td>9.31</td>\n",
       "    </tr>\n",
       "    <tr>\n",
       "      <th>2017-03-17 15:00:00</th>\n",
       "      <td>000001.XSHE</td>\n",
       "      <td>-10900</td>\n",
       "      <td>9.31</td>\n",
       "    </tr>\n",
       "    <tr>\n",
       "      <th>2017-03-17 15:00:00</th>\n",
       "      <td>000001.XSHE</td>\n",
       "      <td>-10900</td>\n",
       "      <td>9.31</td>\n",
       "    </tr>\n",
       "    <tr>\n",
       "      <th>2017-03-17 15:00:00</th>\n",
       "      <td>000001.XSHE</td>\n",
       "      <td>-10900</td>\n",
       "      <td>9.31</td>\n",
       "    </tr>\n",
       "    <tr>\n",
       "      <th>2017-05-26 15:00:00</th>\n",
       "      <td>000001.XSHE</td>\n",
       "      <td>11100</td>\n",
       "      <td>9.10</td>\n",
       "    </tr>\n",
       "    <tr>\n",
       "      <th>2017-05-26 15:00:00</th>\n",
       "      <td>000001.XSHE</td>\n",
       "      <td>11100</td>\n",
       "      <td>9.10</td>\n",
       "    </tr>\n",
       "    <tr>\n",
       "      <th>2017-05-26 15:00:00</th>\n",
       "      <td>000001.XSHE</td>\n",
       "      <td>11100</td>\n",
       "      <td>9.10</td>\n",
       "    </tr>\n",
       "    <tr>\n",
       "      <th>2017-05-26 15:00:00</th>\n",
       "      <td>000001.XSHE</td>\n",
       "      <td>11100</td>\n",
       "      <td>9.10</td>\n",
       "    </tr>\n",
       "    <tr>\n",
       "      <th>2017-05-26 15:00:00</th>\n",
       "      <td>000001.XSHE</td>\n",
       "      <td>11100</td>\n",
       "      <td>9.10</td>\n",
       "    </tr>\n",
       "  </tbody>\n",
       "</table>\n",
       "</div>"
      ],
      "text/plain": [
       "                          symbol  amount  price\n",
       "datetime                                       \n",
       "2016-10-26 15:00:00  000001.XSHE   10900   9.15\n",
       "2016-10-26 15:00:00  000001.XSHE   10900   9.15\n",
       "2016-10-26 15:00:00  000001.XSHE   10900   9.15\n",
       "2016-10-26 15:00:00  000001.XSHE   10900   9.15\n",
       "2016-10-26 15:00:00  000001.XSHE   10900   9.15\n",
       "2017-03-17 15:00:00  000001.XSHE  -10900   9.31\n",
       "2017-03-17 15:00:00  000001.XSHE  -10900   9.31\n",
       "2017-03-17 15:00:00  000001.XSHE  -10900   9.31\n",
       "2017-03-17 15:00:00  000001.XSHE  -10900   9.31\n",
       "2017-03-17 15:00:00  000001.XSHE  -10900   9.31\n",
       "2017-05-26 15:00:00  000001.XSHE   11100   9.10\n",
       "2017-05-26 15:00:00  000001.XSHE   11100   9.10\n",
       "2017-05-26 15:00:00  000001.XSHE   11100   9.10\n",
       "2017-05-26 15:00:00  000001.XSHE   11100   9.10\n",
       "2017-05-26 15:00:00  000001.XSHE   11100   9.10"
      ]
     },
     "execution_count": 16,
     "metadata": {},
     "output_type": "execute_result"
    }
   ],
   "source": [
    "perf.transactions"
   ]
  },
  {
   "cell_type": "code",
   "execution_count": 8,
   "metadata": {
    "collapsed": false
   },
   "outputs": [
    {
     "data": {
      "text/html": [
       "<div>\n",
       "<style>\n",
       "    .dataframe thead tr:only-child th {\n",
       "        text-align: right;\n",
       "    }\n",
       "\n",
       "    .dataframe thead th {\n",
       "        text-align: left;\n",
       "    }\n",
       "\n",
       "    .dataframe tbody tr th {\n",
       "        vertical-align: top;\n",
       "    }\n",
       "</style>\n",
       "<table border=\"1\" class=\"dataframe\">\n",
       "  <thead>\n",
       "    <tr style=\"text-align: right;\">\n",
       "      <th></th>\n",
       "      <th></th>\n",
       "      <th>datetime</th>\n",
       "      <th>cumsum_quantity</th>\n",
       "    </tr>\n",
       "    <tr>\n",
       "      <th>order_book_id</th>\n",
       "      <th>order_id</th>\n",
       "      <th></th>\n",
       "      <th></th>\n",
       "    </tr>\n",
       "  </thead>\n",
       "  <tbody>\n",
       "    <tr>\n",
       "      <th rowspan=\"5\" valign=\"top\">000001.XSHE</th>\n",
       "      <th>0.0</th>\n",
       "      <td>2016-10-26 15:00:00</td>\n",
       "      <td>10900.0</td>\n",
       "    </tr>\n",
       "    <tr>\n",
       "      <th>1.0</th>\n",
       "      <td>2016-10-26 15:00:00</td>\n",
       "      <td>21800.0</td>\n",
       "    </tr>\n",
       "    <tr>\n",
       "      <th>2.0</th>\n",
       "      <td>2016-10-26 15:00:00</td>\n",
       "      <td>32700.0</td>\n",
       "    </tr>\n",
       "    <tr>\n",
       "      <th>3.0</th>\n",
       "      <td>2016-10-26 15:00:00</td>\n",
       "      <td>43600.0</td>\n",
       "    </tr>\n",
       "    <tr>\n",
       "      <th>4.0</th>\n",
       "      <td>2016-10-26 15:00:00</td>\n",
       "      <td>54500.0</td>\n",
       "    </tr>\n",
       "  </tbody>\n",
       "</table>\n",
       "</div>"
      ],
      "text/plain": [
       "                                  datetime  cumsum_quantity\n",
       "order_book_id order_id                                     \n",
       "000001.XSHE   0.0      2016-10-26 15:00:00          10900.0\n",
       "              1.0      2016-10-26 15:00:00          21800.0\n",
       "              2.0      2016-10-26 15:00:00          32700.0\n",
       "              3.0      2016-10-26 15:00:00          43600.0\n",
       "              4.0      2016-10-26 15:00:00          54500.0"
      ]
     },
     "execution_count": 8,
     "metadata": {},
     "output_type": "execute_result"
    }
   ],
   "source": [
    "# 仓位(按品种)\n",
    "perf.position.head()"
   ]
  },
  {
   "cell_type": "code",
   "execution_count": 9,
   "metadata": {
    "collapsed": false
   },
   "outputs": [
    {
     "data": {
      "text/html": [
       "<div>\n",
       "<style>\n",
       "    .dataframe thead tr:only-child th {\n",
       "        text-align: right;\n",
       "    }\n",
       "\n",
       "    .dataframe thead th {\n",
       "        text-align: left;\n",
       "    }\n",
       "\n",
       "    .dataframe tbody tr th {\n",
       "        vertical-align: top;\n",
       "    }\n",
       "</style>\n",
       "<table border=\"1\" class=\"dataframe\">\n",
       "  <thead>\n",
       "    <tr style=\"text-align: right;\">\n",
       "      <th></th>\n",
       "      <th></th>\n",
       "      <th>datetime</th>\n",
       "      <th>market_value</th>\n",
       "    </tr>\n",
       "    <tr>\n",
       "      <th>order_book_id</th>\n",
       "      <th>order_id</th>\n",
       "      <th></th>\n",
       "      <th></th>\n",
       "    </tr>\n",
       "  </thead>\n",
       "  <tbody>\n",
       "    <tr>\n",
       "      <th rowspan=\"5\" valign=\"top\">000001.XSHE</th>\n",
       "      <th>0.0</th>\n",
       "      <td>2016-10-26 15:00:00</td>\n",
       "      <td>99735.0</td>\n",
       "    </tr>\n",
       "    <tr>\n",
       "      <th>1.0</th>\n",
       "      <td>2016-10-26 15:00:00</td>\n",
       "      <td>199470.0</td>\n",
       "    </tr>\n",
       "    <tr>\n",
       "      <th>2.0</th>\n",
       "      <td>2016-10-26 15:00:00</td>\n",
       "      <td>299205.0</td>\n",
       "    </tr>\n",
       "    <tr>\n",
       "      <th>3.0</th>\n",
       "      <td>2016-10-26 15:00:00</td>\n",
       "      <td>398940.0</td>\n",
       "    </tr>\n",
       "    <tr>\n",
       "      <th>4.0</th>\n",
       "      <td>2016-10-26 15:00:00</td>\n",
       "      <td>498675.0</td>\n",
       "    </tr>\n",
       "  </tbody>\n",
       "</table>\n",
       "</div>"
      ],
      "text/plain": [
       "                                  datetime  market_value\n",
       "order_book_id order_id                                  \n",
       "000001.XSHE   0.0      2016-10-26 15:00:00       99735.0\n",
       "              1.0      2016-10-26 15:00:00      199470.0\n",
       "              2.0      2016-10-26 15:00:00      299205.0\n",
       "              3.0      2016-10-26 15:00:00      398940.0\n",
       "              4.0      2016-10-26 15:00:00      498675.0"
      ]
     },
     "execution_count": 9,
     "metadata": {},
     "output_type": "execute_result"
    }
   ],
   "source": [
    "# 证券市值（按品种）\n",
    "perf.market_value.head()"
   ]
  },
  {
   "cell_type": "code",
   "execution_count": 10,
   "metadata": {
    "collapsed": false
   },
   "outputs": [
    {
     "data": {
      "text/html": [
       "<div>\n",
       "<style>\n",
       "    .dataframe thead tr:only-child th {\n",
       "        text-align: right;\n",
       "    }\n",
       "\n",
       "    .dataframe thead th {\n",
       "        text-align: left;\n",
       "    }\n",
       "\n",
       "    .dataframe tbody tr th {\n",
       "        vertical-align: top;\n",
       "    }\n",
       "</style>\n",
       "<table border=\"1\" class=\"dataframe\">\n",
       "  <thead>\n",
       "    <tr style=\"text-align: right;\">\n",
       "      <th></th>\n",
       "      <th></th>\n",
       "      <th>datetime</th>\n",
       "      <th>pnl</th>\n",
       "    </tr>\n",
       "    <tr>\n",
       "      <th>order_book_id</th>\n",
       "      <th>order_id</th>\n",
       "      <th></th>\n",
       "      <th></th>\n",
       "    </tr>\n",
       "  </thead>\n",
       "  <tbody>\n",
       "    <tr>\n",
       "      <th rowspan=\"5\" valign=\"top\">000001.XSHE</th>\n",
       "      <th>0.0</th>\n",
       "      <td>2016-10-26 15:00:00</td>\n",
       "      <td>-79.788</td>\n",
       "    </tr>\n",
       "    <tr>\n",
       "      <th>1.0</th>\n",
       "      <td>2016-10-26 15:00:00</td>\n",
       "      <td>-159.576</td>\n",
       "    </tr>\n",
       "    <tr>\n",
       "      <th>2.0</th>\n",
       "      <td>2016-10-26 15:00:00</td>\n",
       "      <td>-239.364</td>\n",
       "    </tr>\n",
       "    <tr>\n",
       "      <th>3.0</th>\n",
       "      <td>2016-10-26 15:00:00</td>\n",
       "      <td>-319.152</td>\n",
       "    </tr>\n",
       "    <tr>\n",
       "      <th>4.0</th>\n",
       "      <td>2016-10-26 15:00:00</td>\n",
       "      <td>-398.940</td>\n",
       "    </tr>\n",
       "  </tbody>\n",
       "</table>\n",
       "</div>"
      ],
      "text/plain": [
       "                                  datetime      pnl\n",
       "order_book_id order_id                             \n",
       "000001.XSHE   0.0      2016-10-26 15:00:00  -79.788\n",
       "              1.0      2016-10-26 15:00:00 -159.576\n",
       "              2.0      2016-10-26 15:00:00 -239.364\n",
       "              3.0      2016-10-26 15:00:00 -319.152\n",
       "              4.0      2016-10-26 15:00:00 -398.940"
      ]
     },
     "execution_count": 10,
     "metadata": {},
     "output_type": "execute_result"
    }
   ],
   "source": [
    "# 账面盈亏-含手续费损失（按品种）\n",
    "perf.pnl.head()"
   ]
  },
  {
   "cell_type": "code",
   "execution_count": 11,
   "metadata": {
    "collapsed": false
   },
   "outputs": [
    {
     "data": {
      "text/html": [
       "<div>\n",
       "<style>\n",
       "    .dataframe thead tr:only-child th {\n",
       "        text-align: right;\n",
       "    }\n",
       "\n",
       "    .dataframe thead th {\n",
       "        text-align: left;\n",
       "    }\n",
       "\n",
       "    .dataframe tbody tr th {\n",
       "        vertical-align: top;\n",
       "    }\n",
       "</style>\n",
       "<table border=\"1\" class=\"dataframe\">\n",
       "  <thead>\n",
       "    <tr style=\"text-align: right;\">\n",
       "      <th></th>\n",
       "      <th></th>\n",
       "      <th>datetime</th>\n",
       "      <th>profits</th>\n",
       "    </tr>\n",
       "    <tr>\n",
       "      <th>order_book_id</th>\n",
       "      <th>order_id</th>\n",
       "      <th></th>\n",
       "      <th></th>\n",
       "    </tr>\n",
       "  </thead>\n",
       "  <tbody>\n",
       "    <tr>\n",
       "      <th rowspan=\"5\" valign=\"top\">000001.XSHE</th>\n",
       "      <th>0.0</th>\n",
       "      <td>2016-10-26 15:00:00</td>\n",
       "      <td>NaN</td>\n",
       "    </tr>\n",
       "    <tr>\n",
       "      <th>1.0</th>\n",
       "      <td>2016-10-26 15:00:00</td>\n",
       "      <td>NaN</td>\n",
       "    </tr>\n",
       "    <tr>\n",
       "      <th>2.0</th>\n",
       "      <td>2016-10-26 15:00:00</td>\n",
       "      <td>NaN</td>\n",
       "    </tr>\n",
       "    <tr>\n",
       "      <th>3.0</th>\n",
       "      <td>2016-10-26 15:00:00</td>\n",
       "      <td>NaN</td>\n",
       "    </tr>\n",
       "    <tr>\n",
       "      <th>4.0</th>\n",
       "      <td>2016-10-26 15:00:00</td>\n",
       "      <td>NaN</td>\n",
       "    </tr>\n",
       "  </tbody>\n",
       "</table>\n",
       "</div>"
      ],
      "text/plain": [
       "                                  datetime  profits\n",
       "order_book_id order_id                             \n",
       "000001.XSHE   0.0      2016-10-26 15:00:00      NaN\n",
       "              1.0      2016-10-26 15:00:00      NaN\n",
       "              2.0      2016-10-26 15:00:00      NaN\n",
       "              3.0      2016-10-26 15:00:00      NaN\n",
       "              4.0      2016-10-26 15:00:00      NaN"
      ]
     },
     "execution_count": 11,
     "metadata": {},
     "output_type": "execute_result"
    }
   ],
   "source": [
    "# 账面收益-不含手续费（按品种）\n",
    "perf.profits.head()"
   ]
  },
  {
   "cell_type": "code",
   "execution_count": 18,
   "metadata": {
    "collapsed": false
   },
   "outputs": [
    {
     "data": {
      "text/html": [
       "<div>\n",
       "<style>\n",
       "    .dataframe thead tr:only-child th {\n",
       "        text-align: right;\n",
       "    }\n",
       "\n",
       "    .dataframe thead th {\n",
       "        text-align: left;\n",
       "    }\n",
       "\n",
       "    .dataframe tbody tr th {\n",
       "        vertical-align: top;\n",
       "    }\n",
       "</style>\n",
       "<table border=\"1\" class=\"dataframe\">\n",
       "  <thead>\n",
       "    <tr style=\"text-align: right;\">\n",
       "      <th></th>\n",
       "      <th></th>\n",
       "      <th>datetime</th>\n",
       "      <th>avg_price</th>\n",
       "    </tr>\n",
       "    <tr>\n",
       "      <th>order_book_id</th>\n",
       "      <th>order_id</th>\n",
       "      <th></th>\n",
       "      <th></th>\n",
       "    </tr>\n",
       "  </thead>\n",
       "  <tbody>\n",
       "    <tr>\n",
       "      <th rowspan=\"5\" valign=\"top\">000001.XSHE</th>\n",
       "      <th>0.0</th>\n",
       "      <td>2016-10-26 15:00:00</td>\n",
       "      <td>9.15</td>\n",
       "    </tr>\n",
       "    <tr>\n",
       "      <th>1.0</th>\n",
       "      <td>2016-10-26 15:00:00</td>\n",
       "      <td>9.15</td>\n",
       "    </tr>\n",
       "    <tr>\n",
       "      <th>2.0</th>\n",
       "      <td>2016-10-26 15:00:00</td>\n",
       "      <td>9.15</td>\n",
       "    </tr>\n",
       "    <tr>\n",
       "      <th>3.0</th>\n",
       "      <td>2016-10-26 15:00:00</td>\n",
       "      <td>9.15</td>\n",
       "    </tr>\n",
       "    <tr>\n",
       "      <th>4.0</th>\n",
       "      <td>2016-10-26 15:00:00</td>\n",
       "      <td>9.15</td>\n",
       "    </tr>\n",
       "  </tbody>\n",
       "</table>\n",
       "</div>"
      ],
      "text/plain": [
       "                                  datetime  avg_price\n",
       "order_book_id order_id                               \n",
       "000001.XSHE   0.0      2016-10-26 15:00:00       9.15\n",
       "              1.0      2016-10-26 15:00:00       9.15\n",
       "              2.0      2016-10-26 15:00:00       9.15\n",
       "              3.0      2016-10-26 15:00:00       9.15\n",
       "              4.0      2016-10-26 15:00:00       9.15"
      ]
     },
     "execution_count": 18,
     "metadata": {},
     "output_type": "execute_result"
    }
   ],
   "source": [
    "# 持仓均价（按品种）\n",
    "perf.average_price.head()"
   ]
  },
  {
   "cell_type": "code",
   "execution_count": 19,
   "metadata": {
    "collapsed": false
   },
   "outputs": [
    {
     "data": {
      "text/html": [
       "<div>\n",
       "<style>\n",
       "    .dataframe thead tr:only-child th {\n",
       "        text-align: right;\n",
       "    }\n",
       "\n",
       "    .dataframe thead th {\n",
       "        text-align: left;\n",
       "    }\n",
       "\n",
       "    .dataframe tbody tr th {\n",
       "        vertical-align: top;\n",
       "    }\n",
       "</style>\n",
       "<table border=\"1\" class=\"dataframe\">\n",
       "  <thead>\n",
       "    <tr style=\"text-align: right;\">\n",
       "      <th></th>\n",
       "      <th>000001.XSHE</th>\n",
       "      <th>cash</th>\n",
       "    </tr>\n",
       "    <tr>\n",
       "      <th>datetime</th>\n",
       "      <th></th>\n",
       "      <th></th>\n",
       "    </tr>\n",
       "  </thead>\n",
       "  <tbody>\n",
       "    <tr>\n",
       "      <th>2016-10-26</th>\n",
       "      <td>498675.0</td>\n",
       "      <td>9500926.06</td>\n",
       "    </tr>\n",
       "    <tr>\n",
       "      <th>2016-10-27</th>\n",
       "      <td>499220.0</td>\n",
       "      <td>9500926.06</td>\n",
       "    </tr>\n",
       "    <tr>\n",
       "      <th>2016-10-28</th>\n",
       "      <td>499765.0</td>\n",
       "      <td>9500926.06</td>\n",
       "    </tr>\n",
       "    <tr>\n",
       "      <th>2016-10-31</th>\n",
       "      <td>498675.0</td>\n",
       "      <td>9500926.06</td>\n",
       "    </tr>\n",
       "    <tr>\n",
       "      <th>2016-11-01</th>\n",
       "      <td>498130.0</td>\n",
       "      <td>9500926.06</td>\n",
       "    </tr>\n",
       "  </tbody>\n",
       "</table>\n",
       "</div>"
      ],
      "text/plain": [
       "            000001.XSHE        cash\n",
       "datetime                           \n",
       "2016-10-26     498675.0  9500926.06\n",
       "2016-10-27     499220.0  9500926.06\n",
       "2016-10-28     499765.0  9500926.06\n",
       "2016-10-31     498675.0  9500926.06\n",
       "2016-11-01     498130.0  9500926.06"
      ]
     },
     "execution_count": 19,
     "metadata": {},
     "output_type": "execute_result"
    }
   ],
   "source": [
    "# 每日证券市值dataframe（所有品种+可用现金 作为column）\n",
    "perf.daily_mv_df.head()"
   ]
  },
  {
   "cell_type": "code",
   "execution_count": 20,
   "metadata": {
    "collapsed": false
   },
   "outputs": [
    {
     "data": {
      "text/plain": [
       "datetime\n",
       "2016-10-26    498675.0\n",
       "2016-10-27    499220.0\n",
       "2016-10-28    499765.0\n",
       "2016-10-31    498675.0\n",
       "2016-11-01    498130.0\n",
       "Name: daily_security_value, dtype: float64"
      ]
     },
     "execution_count": 20,
     "metadata": {},
     "output_type": "execute_result"
    }
   ],
   "source": [
    "# 每日证券市值总值\n",
    "perf.daily_security_value.head()"
   ]
  },
  {
   "cell_type": "code",
   "execution_count": 21,
   "metadata": {
    "collapsed": false
   },
   "outputs": [
    {
     "data": {
      "text/plain": [
       "datetime    order_book_id\n",
       "2016-10-26  000001.XSHE      54500.0\n",
       "2016-10-27  000001.XSHE      54500.0\n",
       "2016-10-28  000001.XSHE      54500.0\n",
       "2016-10-31  000001.XSHE      54500.0\n",
       "2016-11-01  000001.XSHE      54500.0\n",
       "dtype: float64"
      ]
     },
     "execution_count": 21,
     "metadata": {},
     "output_type": "execute_result"
    }
   ],
   "source": [
    "# 每日持仓（时间+品种的multiindex）\n",
    "perf.daily_position.head()"
   ]
  },
  {
   "cell_type": "code",
   "execution_count": 22,
   "metadata": {
    "collapsed": false
   },
   "outputs": [
    {
     "data": {
      "text/plain": [
       "datetime\n",
       "2016-10-26   -398.94\n",
       "2016-10-27   -398.94\n",
       "2016-10-28   -398.94\n",
       "2016-10-31   -398.94\n",
       "2016-11-01   -398.94\n",
       "Name: daily_pnl, dtype: float64"
      ]
     },
     "execution_count": 22,
     "metadata": {},
     "output_type": "execute_result"
    }
   ],
   "source": [
    "# 每日账面已实现盈亏\n",
    "perf.daily_pnl.head()"
   ]
  },
  {
   "cell_type": "code",
   "execution_count": 25,
   "metadata": {
    "collapsed": false
   },
   "outputs": [
    {
     "data": {
      "text/plain": [
       "datetime\n",
       "2016-10-26   -398.94\n",
       "2016-10-27    146.06\n",
       "2016-10-28    691.06\n",
       "2016-10-31   -398.94\n",
       "2016-11-01   -943.94\n",
       "Name: daily_float_pnl, dtype: float64"
      ]
     },
     "execution_count": 25,
     "metadata": {},
     "output_type": "execute_result"
    }
   ],
   "source": [
    "# 每日账面浮动盈亏\n",
    "perf.daily_float_pnl.head()"
   ]
  },
  {
   "cell_type": "code",
   "execution_count": 26,
   "metadata": {
    "collapsed": false
   },
   "outputs": [
    {
     "data": {
      "text/plain": [
       "datetime\n",
       "2016-10-26     9999601.06\n",
       "2016-10-27    10000146.06\n",
       "2016-10-28    10000691.06\n",
       "2016-10-31     9999601.06\n",
       "2016-11-01     9999056.06\n",
       "Name: daily_account_value, dtype: float64"
      ]
     },
     "execution_count": 26,
     "metadata": {},
     "output_type": "execute_result"
    }
   ],
   "source": [
    "# 每日账户总值\n",
    "perf.daily_account_value.head()"
   ]
  },
  {
   "cell_type": "code",
   "execution_count": 27,
   "metadata": {
    "collapsed": false
   },
   "outputs": [
    {
     "data": {
      "text/plain": [
       "datetime\n",
       "2016-10-26    0.999960\n",
       "2016-10-27    1.000015\n",
       "2016-10-28    1.000069\n",
       "2016-10-31    0.999960\n",
       "2016-11-01    0.999906\n",
       "Name: daily_net, dtype: float64"
      ]
     },
     "execution_count": 27,
     "metadata": {},
     "output_type": "execute_result"
    }
   ],
   "source": [
    "# 每日账户净值\n",
    "perf.daily_net.head()"
   ]
  },
  {
   "cell_type": "code",
   "execution_count": 28,
   "metadata": {
    "collapsed": false
   },
   "outputs": [
    {
     "data": {
      "text/plain": [
       "datetime\n",
       "2016-10-26    9500926.06\n",
       "2016-10-27    9500926.06\n",
       "2016-10-28    9500926.06\n",
       "2016-10-31    9500926.06\n",
       "2016-11-01    9500926.06\n",
       "Name: daily_cash, dtype: float64"
      ]
     },
     "execution_count": 28,
     "metadata": {},
     "output_type": "execute_result"
    }
   ],
   "source": [
    "# 每日可用现金\n",
    "perf.daily_cash.head()"
   ]
  },
  {
   "cell_type": "code",
   "execution_count": 29,
   "metadata": {
    "collapsed": false
   },
   "outputs": [
    {
     "data": {
      "text/plain": [
       "datetime\n",
       "2016-10-26   -0.000040\n",
       "2016-10-27    0.000055\n",
       "2016-10-28    0.000054\n",
       "2016-10-31   -0.000109\n",
       "2016-11-01   -0.000055\n",
       "Name: daily_returns, dtype: float64"
      ]
     },
     "execution_count": 29,
     "metadata": {},
     "output_type": "execute_result"
    }
   ],
   "source": [
    "# 每日收益率\n",
    "perf.daily_returns.head()"
   ]
  },
  {
   "cell_type": "code",
   "execution_count": 30,
   "metadata": {
    "collapsed": false
   },
   "outputs": [
    {
     "data": {
      "text/html": [
       "<div>\n",
       "<style>\n",
       "    .dataframe thead tr:only-child th {\n",
       "        text-align: right;\n",
       "    }\n",
       "\n",
       "    .dataframe thead th {\n",
       "        text-align: left;\n",
       "    }\n",
       "\n",
       "    .dataframe tbody tr th {\n",
       "        vertical-align: top;\n",
       "    }\n",
       "</style>\n",
       "<table border=\"1\" class=\"dataframe\">\n",
       "  <thead>\n",
       "    <tr style=\"text-align: right;\">\n",
       "      <th></th>\n",
       "      <th>000001.XSHE</th>\n",
       "      <th>cash</th>\n",
       "    </tr>\n",
       "    <tr>\n",
       "      <th>datetime</th>\n",
       "      <th></th>\n",
       "      <th></th>\n",
       "    </tr>\n",
       "  </thead>\n",
       "  <tbody>\n",
       "    <tr>\n",
       "      <th>2016-10-26</th>\n",
       "      <td>0.049869</td>\n",
       "      <td>0.950131</td>\n",
       "    </tr>\n",
       "    <tr>\n",
       "      <th>2016-10-27</th>\n",
       "      <td>0.049921</td>\n",
       "      <td>0.950079</td>\n",
       "    </tr>\n",
       "    <tr>\n",
       "      <th>2016-10-28</th>\n",
       "      <td>0.049973</td>\n",
       "      <td>0.950027</td>\n",
       "    </tr>\n",
       "    <tr>\n",
       "      <th>2016-10-31</th>\n",
       "      <td>0.049869</td>\n",
       "      <td>0.950131</td>\n",
       "    </tr>\n",
       "    <tr>\n",
       "      <th>2016-11-01</th>\n",
       "      <td>0.049818</td>\n",
       "      <td>0.950182</td>\n",
       "    </tr>\n",
       "  </tbody>\n",
       "</table>\n",
       "</div>"
      ],
      "text/plain": [
       "            000001.XSHE      cash\n",
       "datetime                         \n",
       "2016-10-26     0.049869  0.950131\n",
       "2016-10-27     0.049921  0.950079\n",
       "2016-10-28     0.049973  0.950027\n",
       "2016-10-31     0.049869  0.950131\n",
       "2016-11-01     0.049818  0.950182"
      ]
     },
     "execution_count": 30,
     "metadata": {},
     "output_type": "execute_result"
    }
   ],
   "source": [
    "# 每日各品种+现金的仓位占比\n",
    "perf.positions_alloc.head()"
   ]
  },
  {
   "cell_type": "code",
   "execution_count": 31,
   "metadata": {
    "collapsed": false
   },
   "outputs": [
    {
     "data": {
      "text/html": [
       "<div>\n",
       "<style>\n",
       "    .dataframe thead tr:only-child th {\n",
       "        text-align: right;\n",
       "    }\n",
       "\n",
       "    .dataframe thead th {\n",
       "        text-align: left;\n",
       "    }\n",
       "\n",
       "    .dataframe tbody tr th {\n",
       "        vertical-align: top;\n",
       "    }\n",
       "</style>\n",
       "<table border=\"1\" class=\"dataframe\">\n",
       "  <thead>\n",
       "    <tr style=\"text-align: right;\">\n",
       "      <th></th>\n",
       "      <th>1</th>\n",
       "      <th>2</th>\n",
       "      <th>3</th>\n",
       "      <th>4</th>\n",
       "      <th>5</th>\n",
       "      <th>10</th>\n",
       "      <th>11</th>\n",
       "      <th>12</th>\n",
       "    </tr>\n",
       "  </thead>\n",
       "  <tbody>\n",
       "    <tr>\n",
       "      <th>2016</th>\n",
       "      <td>0.000</td>\n",
       "      <td>0.000</td>\n",
       "      <td>0.000</td>\n",
       "      <td>0.0</td>\n",
       "      <td>0.0</td>\n",
       "      <td>-0.0</td>\n",
       "      <td>0.002</td>\n",
       "      <td>-0.002</td>\n",
       "    </tr>\n",
       "    <tr>\n",
       "      <th>2017</th>\n",
       "      <td>0.001</td>\n",
       "      <td>0.001</td>\n",
       "      <td>-0.001</td>\n",
       "      <td>0.0</td>\n",
       "      <td>-0.0</td>\n",
       "      <td>0.0</td>\n",
       "      <td>0.000</td>\n",
       "      <td>0.000</td>\n",
       "    </tr>\n",
       "  </tbody>\n",
       "</table>\n",
       "</div>"
      ],
      "text/plain": [
       "         1      2      3    4    5    10     11     12\n",
       "2016  0.000  0.000  0.000  0.0  0.0 -0.0  0.002 -0.002\n",
       "2017  0.001  0.001 -0.001  0.0 -0.0  0.0  0.000  0.000"
      ]
     },
     "execution_count": 31,
     "metadata": {},
     "output_type": "execute_result"
    }
   ],
   "source": [
    "# 账户月回报\n",
    "perf.monthly_returns(perf.daily_returns).head()"
   ]
  },
  {
   "cell_type": "code",
   "execution_count": 32,
   "metadata": {
    "collapsed": false
   },
   "outputs": [
    {
     "data": {
      "text/html": [
       "<div>\n",
       "<style>\n",
       "    .dataframe thead tr:only-child th {\n",
       "        text-align: right;\n",
       "    }\n",
       "\n",
       "    .dataframe thead th {\n",
       "        text-align: left;\n",
       "    }\n",
       "\n",
       "    .dataframe tbody tr th {\n",
       "        vertical-align: top;\n",
       "    }\n",
       "</style>\n",
       "<table border=\"1\" class=\"dataframe\">\n",
       "  <thead>\n",
       "    <tr style=\"text-align: right;\">\n",
       "      <th></th>\n",
       "      <th>annual_returns</th>\n",
       "    </tr>\n",
       "  </thead>\n",
       "  <tbody>\n",
       "    <tr>\n",
       "      <th>2016</th>\n",
       "      <td>-0.000312</td>\n",
       "    </tr>\n",
       "    <tr>\n",
       "      <th>2017</th>\n",
       "      <td>0.001013</td>\n",
       "    </tr>\n",
       "  </tbody>\n",
       "</table>\n",
       "</div>"
      ],
      "text/plain": [
       "      annual_returns\n",
       "2016       -0.000312\n",
       "2017        0.001013"
      ]
     },
     "execution_count": 32,
     "metadata": {},
     "output_type": "execute_result"
    }
   ],
   "source": [
    "# 账户年回报\n",
    "perf.yearly_returns(perf.daily_returns).head()"
   ]
  },
  {
   "cell_type": "code",
   "execution_count": 33,
   "metadata": {
    "collapsed": false
   },
   "outputs": [
    {
     "data": {
      "text/plain": [
       "datetime\n",
       "2016-10-26    0.999960\n",
       "2016-10-27    1.000015\n",
       "2016-10-28    1.000069\n",
       "2016-10-31    0.999960\n",
       "2016-11-01    0.999906\n",
       "Name: daily_returns, dtype: float64"
      ]
     },
     "execution_count": 33,
     "metadata": {},
     "output_type": "execute_result"
    }
   ],
   "source": [
    "# 账户累计收益\n",
    "perf.cum_rets(perf.daily_returns).head()"
   ]
  },
  {
   "cell_type": "code",
   "execution_count": 39,
   "metadata": {
    "collapsed": false
   },
   "outputs": [
    {
     "data": {
      "text/plain": [
       "datetime\n",
       "2016-10-26    1\n",
       "2016-10-27    1\n",
       "2016-10-28    1\n",
       "2016-10-31    1\n",
       "2016-11-01    1\n",
       "dtype: int64"
      ]
     },
     "execution_count": 39,
     "metadata": {},
     "output_type": "execute_result"
    }
   ],
   "source": [
    "# 每日持有股票品种数\n",
    "perf.holdings(perf.daily_mv_df)[\"holdings by day\"].head()"
   ]
  },
  {
   "cell_type": "code",
   "execution_count": 40,
   "metadata": {
    "collapsed": false
   },
   "outputs": [
    {
     "data": {
      "text/plain": [
       "datetime\n",
       "2016-10-31    1.0\n",
       "2016-11-30    1.0\n",
       "2016-12-31    1.0\n",
       "2017-01-31    1.0\n",
       "2017-02-28    1.0\n",
       "Freq: M, dtype: float64"
      ]
     },
     "execution_count": 40,
     "metadata": {},
     "output_type": "execute_result"
    }
   ],
   "source": [
    "# 每月持有股票品种数\n",
    "perf.holdings(perf.daily_mv_df)[\"holdings_by_month\"].head()"
   ]
  },
  {
   "cell_type": "code",
   "execution_count": 41,
   "metadata": {
    "collapsed": false
   },
   "outputs": [
    {
     "data": {
      "text/plain": [
       "0.6736111111111112"
      ]
     },
     "execution_count": 41,
     "metadata": {},
     "output_type": "execute_result"
    }
   ],
   "source": [
    "# 平均持有股票品种数\n",
    "perf.holdings(perf.daily_mv_df)[\"avg holdings\"]"
   ]
  },
  {
   "cell_type": "code",
   "execution_count": 42,
   "metadata": {
    "collapsed": false
   },
   "outputs": [
    {
     "data": {
      "text/html": [
       "<div>\n",
       "<style>\n",
       "    .dataframe thead tr:only-child th {\n",
       "        text-align: right;\n",
       "    }\n",
       "\n",
       "    .dataframe thead th {\n",
       "        text-align: left;\n",
       "    }\n",
       "\n",
       "    .dataframe tbody tr th {\n",
       "        vertical-align: top;\n",
       "    }\n",
       "</style>\n",
       "<table border=\"1\" class=\"dataframe\">\n",
       "  <thead>\n",
       "    <tr style=\"text-align: right;\">\n",
       "      <th></th>\n",
       "      <th>Net drawdown in %</th>\n",
       "      <th>Peak date</th>\n",
       "      <th>Valley date</th>\n",
       "      <th>Recovery date</th>\n",
       "      <th>Duration</th>\n",
       "    </tr>\n",
       "  </thead>\n",
       "  <tbody>\n",
       "    <tr>\n",
       "      <th>0</th>\n",
       "      <td>0.320689</td>\n",
       "      <td>2016-12-09</td>\n",
       "      <td>2016-12-28</td>\n",
       "      <td>NaT</td>\n",
       "      <td>NaN</td>\n",
       "    </tr>\n",
       "    <tr>\n",
       "      <th>1</th>\n",
       "      <td>0.0924119</td>\n",
       "      <td>2016-11-28</td>\n",
       "      <td>2016-12-05</td>\n",
       "      <td>2016-12-09</td>\n",
       "      <td>10</td>\n",
       "    </tr>\n",
       "    <tr>\n",
       "      <th>2</th>\n",
       "      <td>0.0544962</td>\n",
       "      <td>2016-10-28</td>\n",
       "      <td>2016-11-02</td>\n",
       "      <td>2016-11-11</td>\n",
       "      <td>11</td>\n",
       "    </tr>\n",
       "    <tr>\n",
       "      <th>3</th>\n",
       "      <td>0.0272392</td>\n",
       "      <td>2016-11-16</td>\n",
       "      <td>2016-11-18</td>\n",
       "      <td>2016-11-21</td>\n",
       "      <td>4</td>\n",
       "    </tr>\n",
       "    <tr>\n",
       "      <th>4</th>\n",
       "      <td>0</td>\n",
       "      <td>2016-10-26</td>\n",
       "      <td>2016-10-26</td>\n",
       "      <td>2016-10-26</td>\n",
       "      <td>1</td>\n",
       "    </tr>\n",
       "    <tr>\n",
       "      <th>5</th>\n",
       "      <td>0</td>\n",
       "      <td>2016-10-26</td>\n",
       "      <td>2016-10-26</td>\n",
       "      <td>2016-10-26</td>\n",
       "      <td>1</td>\n",
       "    </tr>\n",
       "    <tr>\n",
       "      <th>6</th>\n",
       "      <td>0</td>\n",
       "      <td>2016-10-26</td>\n",
       "      <td>2016-10-26</td>\n",
       "      <td>2016-10-26</td>\n",
       "      <td>1</td>\n",
       "    </tr>\n",
       "    <tr>\n",
       "      <th>7</th>\n",
       "      <td>0</td>\n",
       "      <td>2016-10-26</td>\n",
       "      <td>2016-10-26</td>\n",
       "      <td>2016-10-26</td>\n",
       "      <td>1</td>\n",
       "    </tr>\n",
       "    <tr>\n",
       "      <th>8</th>\n",
       "      <td>0</td>\n",
       "      <td>2016-10-26</td>\n",
       "      <td>2016-10-26</td>\n",
       "      <td>2016-10-26</td>\n",
       "      <td>1</td>\n",
       "    </tr>\n",
       "    <tr>\n",
       "      <th>9</th>\n",
       "      <td>0</td>\n",
       "      <td>2016-10-26</td>\n",
       "      <td>2016-10-26</td>\n",
       "      <td>2016-10-26</td>\n",
       "      <td>1</td>\n",
       "    </tr>\n",
       "  </tbody>\n",
       "</table>\n",
       "</div>"
      ],
      "text/plain": [
       "  Net drawdown in %  Peak date Valley date Recovery date Duration\n",
       "0          0.320689 2016-12-09  2016-12-28           NaT      NaN\n",
       "1         0.0924119 2016-11-28  2016-12-05    2016-12-09       10\n",
       "2         0.0544962 2016-10-28  2016-11-02    2016-11-11       11\n",
       "3         0.0272392 2016-11-16  2016-11-18    2016-11-21        4\n",
       "4                 0 2016-10-26  2016-10-26    2016-10-26        1\n",
       "5                 0 2016-10-26  2016-10-26    2016-10-26        1\n",
       "6                 0 2016-10-26  2016-10-26    2016-10-26        1\n",
       "7                 0 2016-10-26  2016-10-26    2016-10-26        1\n",
       "8                 0 2016-10-26  2016-10-26    2016-10-26        1\n",
       "9                 0 2016-10-26  2016-10-26    2016-10-26        1"
      ]
     },
     "execution_count": 42,
     "metadata": {},
     "output_type": "execute_result"
    }
   ],
   "source": [
    "# 前10最大回撤（通过top调节）\n",
    "perf.drawdown_periods(perf.daily_returns, top=10)"
   ]
  },
  {
   "cell_type": "code",
   "execution_count": 44,
   "metadata": {
    "collapsed": false
   },
   "outputs": [
    {
     "data": {
      "text/plain": [
       "datetime\n",
       "2016-10-26   -0.000000\n",
       "2016-10-27   -0.000000\n",
       "2016-10-28   -0.000000\n",
       "2016-10-31   -0.000109\n",
       "2016-11-01   -0.000163\n",
       "Name: daily_returns, dtype: float64"
      ]
     },
     "execution_count": 44,
     "metadata": {},
     "output_type": "execute_result"
    }
   ],
   "source": [
    "# 利润回吐比例\n",
    "perf.drawdown_underwater(perf.daily_returns).head()"
   ]
  },
  {
   "cell_type": "code",
   "execution_count": 45,
   "metadata": {
    "collapsed": false
   },
   "outputs": [
    {
     "data": {
      "text/plain": [
       "{'Backtest months': 6, 'perf_stats':                         Backtest\n",
       " Annual return               0.1%\n",
       " Cumulative returns          0.1%\n",
       " Annual volatility           0.4%\n",
       " Sharpe ratio            0.296852\n",
       " Calmar ratio            0.382293\n",
       " Stability              0.0237131\n",
       " Max drawdown               -0.3%\n",
       " Omega ratio              1.06672\n",
       " Sortino ratio           0.407502\n",
       " Skew                   -0.529328\n",
       " Kurtosis                  5.1098\n",
       " Tail ratio              0.978217\n",
       " Daily value at risk        -0.1%\n",
       " Alpha               -0.000578321\n",
       " Beta                    0.029071}"
      ]
     },
     "execution_count": 45,
     "metadata": {},
     "output_type": "execute_result"
    }
   ],
   "source": [
    "# 绩效指标\n",
    "hs300_rets = perf.benchmark_rets(code=\"000300.XSHG\")\n",
    "perf.perf_stats(perf.daily_returns, hs300_rets)"
   ]
  },
  {
   "cell_type": "code",
   "execution_count": 47,
   "metadata": {
    "collapsed": false
   },
   "outputs": [
    {
     "data": {
      "text/plain": [
       "{'12-month': datetime\n",
       " 2016-10-26   NaN\n",
       " 2016-10-27   NaN\n",
       " 2016-10-28   NaN\n",
       " 2016-10-31   NaN\n",
       " 2016-11-01   NaN\n",
       " 2016-11-02   NaN\n",
       " 2016-11-03   NaN\n",
       " 2016-11-04   NaN\n",
       " 2016-11-07   NaN\n",
       " 2016-11-08   NaN\n",
       " 2016-11-09   NaN\n",
       " 2016-11-10   NaN\n",
       " 2016-11-11   NaN\n",
       " 2016-11-14   NaN\n",
       " 2016-11-15   NaN\n",
       " 2016-11-16   NaN\n",
       " 2016-11-17   NaN\n",
       " 2016-11-18   NaN\n",
       " 2016-11-21   NaN\n",
       " 2016-11-22   NaN\n",
       " 2016-11-23   NaN\n",
       " 2016-11-24   NaN\n",
       " 2016-11-25   NaN\n",
       " 2016-11-28   NaN\n",
       " 2016-11-29   NaN\n",
       " 2016-11-30   NaN\n",
       " 2016-12-01   NaN\n",
       " 2016-12-02   NaN\n",
       " 2016-12-05   NaN\n",
       " 2016-12-06   NaN\n",
       "               ..\n",
       " 2017-04-14   NaN\n",
       " 2017-04-17   NaN\n",
       " 2017-04-18   NaN\n",
       " 2017-04-19   NaN\n",
       " 2017-04-20   NaN\n",
       " 2017-04-21   NaN\n",
       " 2017-04-24   NaN\n",
       " 2017-04-25   NaN\n",
       " 2017-04-26   NaN\n",
       " 2017-04-27   NaN\n",
       " 2017-04-28   NaN\n",
       " 2017-05-02   NaN\n",
       " 2017-05-03   NaN\n",
       " 2017-05-04   NaN\n",
       " 2017-05-05   NaN\n",
       " 2017-05-08   NaN\n",
       " 2017-05-09   NaN\n",
       " 2017-05-10   NaN\n",
       " 2017-05-11   NaN\n",
       " 2017-05-12   NaN\n",
       " 2017-05-15   NaN\n",
       " 2017-05-16   NaN\n",
       " 2017-05-17   NaN\n",
       " 2017-05-18   NaN\n",
       " 2017-05-19   NaN\n",
       " 2017-05-22   NaN\n",
       " 2017-05-23   NaN\n",
       " 2017-05-24   NaN\n",
       " 2017-05-25   NaN\n",
       " 2017-05-26   NaN\n",
       " Length: 144, dtype: float64, '6-month': datetime\n",
       " 2016-10-26         NaN\n",
       " 2016-10-27         NaN\n",
       " 2016-10-28         NaN\n",
       " 2016-10-31         NaN\n",
       " 2016-11-01         NaN\n",
       " 2016-11-02         NaN\n",
       " 2016-11-03         NaN\n",
       " 2016-11-04         NaN\n",
       " 2016-11-07         NaN\n",
       " 2016-11-08         NaN\n",
       " 2016-11-09         NaN\n",
       " 2016-11-10         NaN\n",
       " 2016-11-11         NaN\n",
       " 2016-11-14         NaN\n",
       " 2016-11-15         NaN\n",
       " 2016-11-16         NaN\n",
       " 2016-11-17         NaN\n",
       " 2016-11-18         NaN\n",
       " 2016-11-21         NaN\n",
       " 2016-11-22         NaN\n",
       " 2016-11-23         NaN\n",
       " 2016-11-24         NaN\n",
       " 2016-11-25         NaN\n",
       " 2016-11-28         NaN\n",
       " 2016-11-29         NaN\n",
       " 2016-11-30         NaN\n",
       " 2016-12-01         NaN\n",
       " 2016-12-02         NaN\n",
       " 2016-12-05         NaN\n",
       " 2016-12-06         NaN\n",
       "                 ...   \n",
       " 2017-04-14         NaN\n",
       " 2017-04-17         NaN\n",
       " 2017-04-18         NaN\n",
       " 2017-04-19         NaN\n",
       " 2017-04-20         NaN\n",
       " 2017-04-21         NaN\n",
       " 2017-04-24         NaN\n",
       " 2017-04-25         NaN\n",
       " 2017-04-26         NaN\n",
       " 2017-04-27         NaN\n",
       " 2017-04-28         NaN\n",
       " 2017-05-02         NaN\n",
       " 2017-05-03    0.033564\n",
       " 2017-05-04    0.033586\n",
       " 2017-05-05    0.033369\n",
       " 2017-05-08    0.033053\n",
       " 2017-05-09    0.033009\n",
       " 2017-05-10    0.033299\n",
       " 2017-05-11    0.032828\n",
       " 2017-05-12    0.032273\n",
       " 2017-05-15    0.032147\n",
       " 2017-05-16    0.031624\n",
       " 2017-05-17    0.031396\n",
       " 2017-05-18    0.030990\n",
       " 2017-05-19    0.030898\n",
       " 2017-05-22    0.030915\n",
       " 2017-05-23    0.030728\n",
       " 2017-05-24    0.030730\n",
       " 2017-05-25    0.028650\n",
       " 2017-05-26    0.028715\n",
       " Length: 144, dtype: float64}"
      ]
     },
     "execution_count": 47,
     "metadata": {},
     "output_type": "execute_result"
    }
   ],
   "source": [
    "# 6个月、12个月滚动beta\n",
    "perf.rolling_beta(perf.daily_returns,hs300_rets)"
   ]
  },
  {
   "cell_type": "code",
   "execution_count": 48,
   "metadata": {
    "collapsed": false
   },
   "outputs": [
    {
     "data": {
      "text/plain": [
       "datetime\n",
       "2016-10-26         NaN\n",
       "2016-10-27         NaN\n",
       "2016-10-28         NaN\n",
       "2016-10-31         NaN\n",
       "2016-11-01         NaN\n",
       "2016-11-02         NaN\n",
       "2016-11-03         NaN\n",
       "2016-11-04         NaN\n",
       "2016-11-07         NaN\n",
       "2016-11-08         NaN\n",
       "2016-11-09         NaN\n",
       "2016-11-10         NaN\n",
       "2016-11-11         NaN\n",
       "2016-11-14         NaN\n",
       "2016-11-15         NaN\n",
       "2016-11-16         NaN\n",
       "2016-11-17         NaN\n",
       "2016-11-18         NaN\n",
       "2016-11-21         NaN\n",
       "2016-11-22         NaN\n",
       "2016-11-23         NaN\n",
       "2016-11-24         NaN\n",
       "2016-11-25         NaN\n",
       "2016-11-28         NaN\n",
       "2016-11-29         NaN\n",
       "2016-11-30         NaN\n",
       "2016-12-01         NaN\n",
       "2016-12-02         NaN\n",
       "2016-12-05         NaN\n",
       "2016-12-06         NaN\n",
       "                ...   \n",
       "2017-04-14         NaN\n",
       "2017-04-17         NaN\n",
       "2017-04-18         NaN\n",
       "2017-04-19         NaN\n",
       "2017-04-20         NaN\n",
       "2017-04-21         NaN\n",
       "2017-04-24         NaN\n",
       "2017-04-25         NaN\n",
       "2017-04-26         NaN\n",
       "2017-04-27         NaN\n",
       "2017-04-28         NaN\n",
       "2017-05-02    0.004445\n",
       "2017-05-03    0.004444\n",
       "2017-05-04    0.004444\n",
       "2017-05-05    0.004443\n",
       "2017-05-08    0.004440\n",
       "2017-05-09    0.004440\n",
       "2017-05-10    0.004405\n",
       "2017-05-11    0.004382\n",
       "2017-05-12    0.004379\n",
       "2017-05-15    0.004378\n",
       "2017-05-16    0.004372\n",
       "2017-05-17    0.004327\n",
       "2017-05-18    0.004294\n",
       "2017-05-19    0.004284\n",
       "2017-05-22    0.004273\n",
       "2017-05-23    0.004272\n",
       "2017-05-24    0.004272\n",
       "2017-05-25    0.004269\n",
       "2017-05-26    0.004263\n",
       "Name: daily_returns, Length: 144, dtype: float64"
      ]
     },
     "execution_count": 48,
     "metadata": {},
     "output_type": "execute_result"
    }
   ],
   "source": [
    "# 六个月滚动波动率\n",
    "perf.rolling_volatility(perf.daily_returns)"
   ]
  },
  {
   "cell_type": "code",
   "execution_count": 49,
   "metadata": {
    "collapsed": false
   },
   "outputs": [
    {
     "data": {
      "text/plain": [
       "datetime\n",
       "2016-10-26         NaN\n",
       "2016-10-27         NaN\n",
       "2016-10-28         NaN\n",
       "2016-10-31         NaN\n",
       "2016-11-01         NaN\n",
       "2016-11-02         NaN\n",
       "2016-11-03         NaN\n",
       "2016-11-04         NaN\n",
       "2016-11-07         NaN\n",
       "2016-11-08         NaN\n",
       "2016-11-09         NaN\n",
       "2016-11-10         NaN\n",
       "2016-11-11         NaN\n",
       "2016-11-14         NaN\n",
       "2016-11-15         NaN\n",
       "2016-11-16         NaN\n",
       "2016-11-17         NaN\n",
       "2016-11-18         NaN\n",
       "2016-11-21         NaN\n",
       "2016-11-22         NaN\n",
       "2016-11-23         NaN\n",
       "2016-11-24         NaN\n",
       "2016-11-25         NaN\n",
       "2016-11-28         NaN\n",
       "2016-11-29         NaN\n",
       "2016-11-30         NaN\n",
       "2016-12-01         NaN\n",
       "2016-12-02         NaN\n",
       "2016-12-05         NaN\n",
       "2016-12-06         NaN\n",
       "                ...   \n",
       "2017-04-14         NaN\n",
       "2017-04-17         NaN\n",
       "2017-04-18         NaN\n",
       "2017-04-19         NaN\n",
       "2017-04-20         NaN\n",
       "2017-04-21         NaN\n",
       "2017-04-24         NaN\n",
       "2017-04-25         NaN\n",
       "2017-04-26         NaN\n",
       "2017-04-27         NaN\n",
       "2017-04-28         NaN\n",
       "2017-05-02    0.335399\n",
       "2017-05-03    0.353387\n",
       "2017-05-04    0.328899\n",
       "2017-05-05    0.304408\n",
       "2017-05-08    0.353704\n",
       "2017-05-09    0.378324\n",
       "2017-05-10    0.554527\n",
       "2017-05-11    0.408145\n",
       "2017-05-12    0.458231\n",
       "2017-05-15    0.433379\n",
       "2017-05-16    0.359136\n",
       "2017-05-17    0.564472\n",
       "2017-05-18    0.390989\n",
       "2017-05-19    0.290160\n",
       "2017-05-22    0.188863\n",
       "2017-05-23    0.163385\n",
       "2017-05-24    0.163385\n",
       "2017-05-25    0.214542\n",
       "2017-05-26    0.272595\n",
       "Name: daily_returns, Length: 144, dtype: float64"
      ]
     },
     "execution_count": 49,
     "metadata": {},
     "output_type": "execute_result"
    }
   ],
   "source": [
    "# 六个月滚动夏普比例\n",
    "perf.rolling_sharpe(perf.daily_returns)"
   ]
  },
  {
   "cell_type": "code",
   "execution_count": 51,
   "metadata": {
    "collapsed": false
   },
   "outputs": [
    {
     "data": {
      "text/plain": [
       "{'long_exp': datetime\n",
       " 2016-10-26    0.049869\n",
       " 2016-10-27    0.049921\n",
       " 2016-10-28    0.049973\n",
       " 2016-10-31    0.049869\n",
       " 2016-11-01    0.049818\n",
       " 2016-11-02    0.049455\n",
       " 2016-11-03    0.049766\n",
       " 2016-11-04    0.049662\n",
       " 2016-11-07    0.049714\n",
       " 2016-11-08    0.049869\n",
       " 2016-11-09    0.049455\n",
       " 2016-11-10    0.049818\n",
       " 2016-11-11    0.050025\n",
       " 2016-11-14    0.050232\n",
       " 2016-11-15    0.050284\n",
       " 2016-11-16    0.050284\n",
       " 2016-11-17    0.050180\n",
       " 2016-11-18    0.050025\n",
       " 2016-11-21    0.050335\n",
       " 2016-11-22    0.050956\n",
       " 2016-11-23    0.051420\n",
       " 2016-11-24    0.051524\n",
       " 2016-11-25    0.052297\n",
       " 2016-11-28    0.052349\n",
       " 2016-11-29    0.052297\n",
       " 2016-11-30    0.051936\n",
       " 2016-12-01    0.052194\n",
       " 2016-12-02    0.051936\n",
       " 2016-12-05    0.051472\n",
       " 2016-12-06    0.051627\n",
       "                 ...   \n",
       " 2017-04-14    0.000000\n",
       " 2017-04-17    0.000000\n",
       " 2017-04-18    0.000000\n",
       " 2017-04-19    0.000000\n",
       " 2017-04-20    0.000000\n",
       " 2017-04-21    0.000000\n",
       " 2017-04-24    0.000000\n",
       " 2017-04-25    0.000000\n",
       " 2017-04-26    0.000000\n",
       " 2017-04-27    0.000000\n",
       " 2017-04-28    0.000000\n",
       " 2017-05-02    0.000000\n",
       " 2017-05-03    0.000000\n",
       " 2017-05-04    0.000000\n",
       " 2017-05-05    0.000000\n",
       " 2017-05-08    0.000000\n",
       " 2017-05-09    0.000000\n",
       " 2017-05-10    0.000000\n",
       " 2017-05-11    0.000000\n",
       " 2017-05-12    0.000000\n",
       " 2017-05-15    0.000000\n",
       " 2017-05-16    0.000000\n",
       " 2017-05-17    0.000000\n",
       " 2017-05-18    0.000000\n",
       " 2017-05-19    0.000000\n",
       " 2017-05-22    0.000000\n",
       " 2017-05-23    0.000000\n",
       " 2017-05-24    0.000000\n",
       " 2017-05-25    0.000000\n",
       " 2017-05-26    0.050470\n",
       " Length: 144, dtype: float64, 'net_exp': datetime\n",
       " 2016-10-26    0.049869\n",
       " 2016-10-27    0.049921\n",
       " 2016-10-28    0.049973\n",
       " 2016-10-31    0.049869\n",
       " 2016-11-01    0.049818\n",
       " 2016-11-02    0.049455\n",
       " 2016-11-03    0.049766\n",
       " 2016-11-04    0.049662\n",
       " 2016-11-07    0.049714\n",
       " 2016-11-08    0.049869\n",
       " 2016-11-09    0.049455\n",
       " 2016-11-10    0.049818\n",
       " 2016-11-11    0.050025\n",
       " 2016-11-14    0.050232\n",
       " 2016-11-15    0.050284\n",
       " 2016-11-16    0.050284\n",
       " 2016-11-17    0.050180\n",
       " 2016-11-18    0.050025\n",
       " 2016-11-21    0.050335\n",
       " 2016-11-22    0.050956\n",
       " 2016-11-23    0.051420\n",
       " 2016-11-24    0.051524\n",
       " 2016-11-25    0.052297\n",
       " 2016-11-28    0.052349\n",
       " 2016-11-29    0.052297\n",
       " 2016-11-30    0.051936\n",
       " 2016-12-01    0.052194\n",
       " 2016-12-02    0.051936\n",
       " 2016-12-05    0.051472\n",
       " 2016-12-06    0.051627\n",
       "                 ...   \n",
       " 2017-04-14    0.000000\n",
       " 2017-04-17    0.000000\n",
       " 2017-04-18    0.000000\n",
       " 2017-04-19    0.000000\n",
       " 2017-04-20    0.000000\n",
       " 2017-04-21    0.000000\n",
       " 2017-04-24    0.000000\n",
       " 2017-04-25    0.000000\n",
       " 2017-04-26    0.000000\n",
       " 2017-04-27    0.000000\n",
       " 2017-04-28    0.000000\n",
       " 2017-05-02    0.000000\n",
       " 2017-05-03    0.000000\n",
       " 2017-05-04    0.000000\n",
       " 2017-05-05    0.000000\n",
       " 2017-05-08    0.000000\n",
       " 2017-05-09    0.000000\n",
       " 2017-05-10    0.000000\n",
       " 2017-05-11    0.000000\n",
       " 2017-05-12    0.000000\n",
       " 2017-05-15    0.000000\n",
       " 2017-05-16    0.000000\n",
       " 2017-05-17    0.000000\n",
       " 2017-05-18    0.000000\n",
       " 2017-05-19    0.000000\n",
       " 2017-05-22    0.000000\n",
       " 2017-05-23    0.000000\n",
       " 2017-05-24    0.000000\n",
       " 2017-05-25    0.000000\n",
       " 2017-05-26    0.050470\n",
       " Length: 144, dtype: float64, 'short_exp': datetime\n",
       " 2016-10-26    0.0\n",
       " 2016-10-27    0.0\n",
       " 2016-10-28    0.0\n",
       " 2016-10-31    0.0\n",
       " 2016-11-01    0.0\n",
       " 2016-11-02    0.0\n",
       " 2016-11-03    0.0\n",
       " 2016-11-04    0.0\n",
       " 2016-11-07    0.0\n",
       " 2016-11-08    0.0\n",
       " 2016-11-09    0.0\n",
       " 2016-11-10    0.0\n",
       " 2016-11-11    0.0\n",
       " 2016-11-14    0.0\n",
       " 2016-11-15    0.0\n",
       " 2016-11-16    0.0\n",
       " 2016-11-17    0.0\n",
       " 2016-11-18    0.0\n",
       " 2016-11-21    0.0\n",
       " 2016-11-22    0.0\n",
       " 2016-11-23    0.0\n",
       " 2016-11-24    0.0\n",
       " 2016-11-25    0.0\n",
       " 2016-11-28    0.0\n",
       " 2016-11-29    0.0\n",
       " 2016-11-30    0.0\n",
       " 2016-12-01    0.0\n",
       " 2016-12-02    0.0\n",
       " 2016-12-05    0.0\n",
       " 2016-12-06    0.0\n",
       "              ... \n",
       " 2017-04-14    0.0\n",
       " 2017-04-17    0.0\n",
       " 2017-04-18    0.0\n",
       " 2017-04-19    0.0\n",
       " 2017-04-20    0.0\n",
       " 2017-04-21    0.0\n",
       " 2017-04-24    0.0\n",
       " 2017-04-25    0.0\n",
       " 2017-04-26    0.0\n",
       " 2017-04-27    0.0\n",
       " 2017-04-28    0.0\n",
       " 2017-05-02    0.0\n",
       " 2017-05-03    0.0\n",
       " 2017-05-04    0.0\n",
       " 2017-05-05    0.0\n",
       " 2017-05-08    0.0\n",
       " 2017-05-09    0.0\n",
       " 2017-05-10    0.0\n",
       " 2017-05-11    0.0\n",
       " 2017-05-12    0.0\n",
       " 2017-05-15    0.0\n",
       " 2017-05-16    0.0\n",
       " 2017-05-17    0.0\n",
       " 2017-05-18    0.0\n",
       " 2017-05-19    0.0\n",
       " 2017-05-22    0.0\n",
       " 2017-05-23    0.0\n",
       " 2017-05-24    0.0\n",
       " 2017-05-25    0.0\n",
       " 2017-05-26    0.0\n",
       " Length: 144, dtype: float64}"
      ]
     },
     "execution_count": 51,
     "metadata": {},
     "output_type": "execute_result"
    }
   ],
   "source": [
    "# 仓位比重(持仓市值/总市值)\n",
    "perf.exposures(perf.daily_mv_df)"
   ]
  },
  {
   "cell_type": "code",
   "execution_count": 53,
   "metadata": {
    "collapsed": false
   },
   "outputs": [
    {
     "data": {
      "text/plain": [
       "{'all': 000001.XSHE    0.052452\n",
       " dtype: float64, 'top_abs': 000001.XSHE    0.052452\n",
       " dtype: float64, 'top_long': 000001.XSHE    0.052452\n",
       " dtype: float64, 'top_short': Series([], dtype: float64)}"
      ]
     },
     "execution_count": 53,
     "metadata": {},
     "output_type": "execute_result"
    }
   ],
   "source": [
    "# 历史重/持仓股(某一日达到该日top要求即入选)\n",
    "perf.top_positions(perf.daily_mv_df,\n",
    "                   top=10)"
   ]
  },
  {
   "cell_type": "code",
   "execution_count": 55,
   "metadata": {
    "collapsed": false
   },
   "outputs": [
    {
     "data": {
      "text/html": [
       "<div>\n",
       "<style>\n",
       "    .dataframe thead tr:only-child th {\n",
       "        text-align: right;\n",
       "    }\n",
       "\n",
       "    .dataframe thead th {\n",
       "        text-align: left;\n",
       "    }\n",
       "\n",
       "    .dataframe tbody tr th {\n",
       "        vertical-align: top;\n",
       "    }\n",
       "</style>\n",
       "<table border=\"1\" class=\"dataframe\">\n",
       "  <thead>\n",
       "    <tr style=\"text-align: right;\">\n",
       "      <th></th>\n",
       "      <th>max_long</th>\n",
       "      <th>median_long</th>\n",
       "      <th>median_short</th>\n",
       "      <th>max_short</th>\n",
       "    </tr>\n",
       "    <tr>\n",
       "      <th>datetime</th>\n",
       "      <th></th>\n",
       "      <th></th>\n",
       "      <th></th>\n",
       "      <th></th>\n",
       "    </tr>\n",
       "  </thead>\n",
       "  <tbody>\n",
       "    <tr>\n",
       "      <th>2016-10-26</th>\n",
       "      <td>0.049869</td>\n",
       "      <td>0.049869</td>\n",
       "      <td>NaN</td>\n",
       "      <td>NaN</td>\n",
       "    </tr>\n",
       "    <tr>\n",
       "      <th>2016-10-27</th>\n",
       "      <td>0.049921</td>\n",
       "      <td>0.049921</td>\n",
       "      <td>NaN</td>\n",
       "      <td>NaN</td>\n",
       "    </tr>\n",
       "    <tr>\n",
       "      <th>2016-10-28</th>\n",
       "      <td>0.049973</td>\n",
       "      <td>0.049973</td>\n",
       "      <td>NaN</td>\n",
       "      <td>NaN</td>\n",
       "    </tr>\n",
       "    <tr>\n",
       "      <th>2016-10-31</th>\n",
       "      <td>0.049869</td>\n",
       "      <td>0.049869</td>\n",
       "      <td>NaN</td>\n",
       "      <td>NaN</td>\n",
       "    </tr>\n",
       "    <tr>\n",
       "      <th>2016-11-01</th>\n",
       "      <td>0.049818</td>\n",
       "      <td>0.049818</td>\n",
       "      <td>NaN</td>\n",
       "      <td>NaN</td>\n",
       "    </tr>\n",
       "  </tbody>\n",
       "</table>\n",
       "</div>"
      ],
      "text/plain": [
       "            max_long  median_long  median_short  max_short\n",
       "datetime                                                  \n",
       "2016-10-26  0.049869     0.049869           NaN        NaN\n",
       "2016-10-27  0.049921     0.049921           NaN        NaN\n",
       "2016-10-28  0.049973     0.049973           NaN        NaN\n",
       "2016-10-31  0.049869     0.049869           NaN        NaN\n",
       "2016-11-01  0.049818     0.049818           NaN        NaN"
      ]
     },
     "execution_count": 55,
     "metadata": {},
     "output_type": "execute_result"
    }
   ],
   "source": [
    "# 每天持有个股的最大头寸占比和头寸占比众数（分多空头)\n",
    "perf.max_median_position_concentration(perf.daily_mv_df).head()"
   ]
  },
  {
   "cell_type": "code",
   "execution_count": 57,
   "metadata": {
    "collapsed": false
   },
   "outputs": [
    {
     "data": {
      "text/html": [
       "<div>\n",
       "<style>\n",
       "    .dataframe thead tr:only-child th {\n",
       "        text-align: right;\n",
       "    }\n",
       "\n",
       "    .dataframe thead th {\n",
       "        text-align: left;\n",
       "    }\n",
       "\n",
       "    .dataframe tbody tr th {\n",
       "        vertical-align: top;\n",
       "    }\n",
       "</style>\n",
       "<table border=\"1\" class=\"dataframe\">\n",
       "  <thead>\n",
       "    <tr style=\"text-align: right;\">\n",
       "      <th></th>\n",
       "      <th>金融行业</th>\n",
       "      <th>cash</th>\n",
       "    </tr>\n",
       "    <tr>\n",
       "      <th>datetime</th>\n",
       "      <th></th>\n",
       "      <th></th>\n",
       "    </tr>\n",
       "  </thead>\n",
       "  <tbody>\n",
       "    <tr>\n",
       "      <th>2016-10-26</th>\n",
       "      <td>498675.0</td>\n",
       "      <td>9500926.06</td>\n",
       "    </tr>\n",
       "    <tr>\n",
       "      <th>2016-10-27</th>\n",
       "      <td>499220.0</td>\n",
       "      <td>9500926.06</td>\n",
       "    </tr>\n",
       "    <tr>\n",
       "      <th>2016-10-28</th>\n",
       "      <td>499765.0</td>\n",
       "      <td>9500926.06</td>\n",
       "    </tr>\n",
       "    <tr>\n",
       "      <th>2016-10-31</th>\n",
       "      <td>498675.0</td>\n",
       "      <td>9500926.06</td>\n",
       "    </tr>\n",
       "    <tr>\n",
       "      <th>2016-11-01</th>\n",
       "      <td>498130.0</td>\n",
       "      <td>9500926.06</td>\n",
       "    </tr>\n",
       "  </tbody>\n",
       "</table>\n",
       "</div>"
      ],
      "text/plain": [
       "                金融行业        cash\n",
       "datetime                        \n",
       "2016-10-26  498675.0  9500926.06\n",
       "2016-10-27  499220.0  9500926.06\n",
       "2016-10-28  499765.0  9500926.06\n",
       "2016-10-31  498675.0  9500926.06\n",
       "2016-11-01  498130.0  9500926.06"
      ]
     },
     "execution_count": 57,
     "metadata": {},
     "output_type": "execute_result"
    }
   ],
   "source": [
    "# 行业风险暴露（行业资金分配）\n",
    "symbol_sector_map = perf.symbol_sector_map()\n",
    "perf.sector_exposures(perf.daily_mv_df, symbol_sector_map).head()"
   ]
  },
  {
   "cell_type": "code",
   "execution_count": 58,
   "metadata": {
    "collapsed": false,
    "scrolled": true
   },
   "outputs": [
    {
     "data": {
      "text/plain": [
       "{'is': {'Daily': datetime\n",
       "  2016-10-26   -0.000040\n",
       "  2016-10-27    0.000055\n",
       "  2016-10-28    0.000054\n",
       "  2016-10-31   -0.000109\n",
       "  2016-11-01   -0.000055\n",
       "  2016-11-02   -0.000382\n",
       "  2016-11-03    0.000327\n",
       "  2016-11-04   -0.000109\n",
       "  2016-11-07    0.000055\n",
       "  2016-11-08    0.000164\n",
       "  2016-11-09   -0.000436\n",
       "  2016-11-10    0.000382\n",
       "  2016-11-11    0.000218\n",
       "  2016-11-14    0.000218\n",
       "  2016-11-15    0.000054\n",
       "  2016-11-16    0.000000\n",
       "  2016-11-17   -0.000109\n",
       "  2016-11-18   -0.000163\n",
       "  2016-11-21    0.000327\n",
       "  2016-11-22    0.000654\n",
       "  2016-11-23    0.000490\n",
       "  2016-11-24    0.000109\n",
       "  2016-11-25    0.000816\n",
       "  2016-11-28    0.000054\n",
       "  2016-11-29   -0.000054\n",
       "  2016-11-30   -0.000381\n",
       "  2016-12-01    0.000272\n",
       "  2016-12-02   -0.000272\n",
       "  2016-12-05   -0.000489\n",
       "  2016-12-06    0.000163\n",
       "                  ...   \n",
       "  2017-04-14    0.000000\n",
       "  2017-04-17    0.000000\n",
       "  2017-04-18    0.000000\n",
       "  2017-04-19    0.000000\n",
       "  2017-04-20    0.000000\n",
       "  2017-04-21    0.000000\n",
       "  2017-04-24    0.000000\n",
       "  2017-04-25    0.000000\n",
       "  2017-04-26    0.000000\n",
       "  2017-04-27    0.000000\n",
       "  2017-04-28    0.000000\n",
       "  2017-05-02    0.000000\n",
       "  2017-05-03    0.000000\n",
       "  2017-05-04    0.000000\n",
       "  2017-05-05    0.000000\n",
       "  2017-05-08    0.000000\n",
       "  2017-05-09    0.000000\n",
       "  2017-05-10    0.000000\n",
       "  2017-05-11    0.000000\n",
       "  2017-05-12    0.000000\n",
       "  2017-05-15    0.000000\n",
       "  2017-05-16    0.000000\n",
       "  2017-05-17    0.000000\n",
       "  2017-05-18    0.000000\n",
       "  2017-05-19    0.000000\n",
       "  2017-05-22    0.000000\n",
       "  2017-05-23    0.000000\n",
       "  2017-05-24    0.000000\n",
       "  2017-05-25    0.000000\n",
       "  2017-05-26   -0.000040\n",
       "  Name: daily_returns, Length: 144, dtype: float64,\n",
       "  'Monthly': 2016  10   -0.000040\n",
       "        11    0.002180\n",
       "        12   -0.002447\n",
       "  2017  1     0.001254\n",
       "        2     0.000817\n",
       "        3    -0.001016\n",
       "        4     0.000000\n",
       "        5    -0.000040\n",
       "  Name: daily_returns, dtype: float64,\n",
       "  'Weekly': 2016  43    6.910600e-05\n",
       "        44   -3.269774e-04\n",
       "        45    3.815984e-04\n",
       "        46   -1.110223e-16\n",
       "        47    2.397704e-03\n",
       "        48   -3.805404e-04\n",
       "        49    5.438361e-04\n",
       "        50   -2.174162e-03\n",
       "        51   -9.260323e-04\n",
       "        52    1.090460e-04\n",
       "  2017  1     1.635511e-04\n",
       "        2     1.635243e-04\n",
       "        3     3.269952e-04\n",
       "        4     5.992953e-04\n",
       "        5    -3.811413e-04\n",
       "        6     3.812866e-04\n",
       "        7     3.266925e-04\n",
       "        8     5.987407e-04\n",
       "        9    -5.439841e-04\n",
       "        10    0.000000e+00\n",
       "        11   -5.810626e-04\n",
       "        12    0.000000e+00\n",
       "        13    0.000000e+00\n",
       "        14    0.000000e+00\n",
       "        15    0.000000e+00\n",
       "        16    0.000000e+00\n",
       "        17    0.000000e+00\n",
       "        18    0.000000e+00\n",
       "        19    0.000000e+00\n",
       "        20    0.000000e+00\n",
       "        21   -4.037409e-05\n",
       "  Name: daily_returns, dtype: float64}}"
      ]
     },
     "execution_count": 58,
     "metadata": {},
     "output_type": "execute_result"
    }
   ],
   "source": [
    "# 按样本内外的日度、月度、周度来呈现收益分布特征\n",
    "perf.return_quantiles(perf.daily_returns,live_start_date=None)"
   ]
  },
  {
   "cell_type": "code",
   "execution_count": 60,
   "metadata": {
    "collapsed": false,
    "scrolled": true
   },
   "outputs": [
    {
     "data": {
      "text/plain": [
       "{'Daily': datetime\n",
       " 2016-10-26    0.024935\n",
       " 2016-10-27    0.000000\n",
       " 2016-10-28    0.000000\n",
       " 2016-10-31    0.000000\n",
       " 2016-11-01    0.000000\n",
       " 2016-11-02    0.000000\n",
       " 2016-11-03    0.000000\n",
       " 2016-11-04    0.000000\n",
       " 2016-11-07    0.000000\n",
       " 2016-11-08    0.000000\n",
       " 2016-11-09    0.000000\n",
       " 2016-11-10    0.000000\n",
       " 2016-11-11    0.000000\n",
       " 2016-11-14    0.000000\n",
       " 2016-11-15    0.000000\n",
       " 2016-11-16    0.000000\n",
       " 2016-11-17    0.000000\n",
       " 2016-11-18    0.000000\n",
       " 2016-11-21    0.000000\n",
       " 2016-11-22    0.000000\n",
       " 2016-11-23    0.000000\n",
       " 2016-11-24    0.000000\n",
       " 2016-11-25    0.000000\n",
       " 2016-11-28    0.000000\n",
       " 2016-11-29    0.000000\n",
       " 2016-11-30    0.000000\n",
       " 2016-12-01    0.000000\n",
       " 2016-12-02    0.000000\n",
       " 2016-12-05    0.000000\n",
       " 2016-12-06    0.000000\n",
       "                 ...   \n",
       " 2017-04-14    0.000000\n",
       " 2017-04-17    0.000000\n",
       " 2017-04-18    0.000000\n",
       " 2017-04-19    0.000000\n",
       " 2017-04-20    0.000000\n",
       " 2017-04-21    0.000000\n",
       " 2017-04-24    0.000000\n",
       " 2017-04-25    0.000000\n",
       " 2017-04-26    0.000000\n",
       " 2017-04-27    0.000000\n",
       " 2017-04-28    0.000000\n",
       " 2017-05-02    0.000000\n",
       " 2017-05-03    0.000000\n",
       " 2017-05-04    0.000000\n",
       " 2017-05-05    0.000000\n",
       " 2017-05-08    0.000000\n",
       " 2017-05-09    0.000000\n",
       " 2017-05-10    0.000000\n",
       " 2017-05-11    0.000000\n",
       " 2017-05-12    0.000000\n",
       " 2017-05-15    0.000000\n",
       " 2017-05-16    0.000000\n",
       " 2017-05-17    0.000000\n",
       " 2017-05-18    0.000000\n",
       " 2017-05-19    0.000000\n",
       " 2017-05-22    0.000000\n",
       " 2017-05-23    0.000000\n",
       " 2017-05-24    0.000000\n",
       " 2017-05-25    0.000000\n",
       " 2017-05-26    0.025235\n",
       " Length: 144, dtype: float64,\n",
       " 'Mean': 0.0005244482058749147,\n",
       " 'Monthly': datetime\n",
       " 2016-10-31    0.006234\n",
       " 2016-11-30    0.000000\n",
       " 2016-12-31    0.000000\n",
       " 2017-01-31    0.000000\n",
       " 2017-02-28    0.000000\n",
       " 2017-03-31    0.001102\n",
       " 2017-04-30    0.000000\n",
       " 2017-05-31    0.001328\n",
       " Freq: M, dtype: float64}"
      ]
     },
     "execution_count": 60,
     "metadata": {},
     "output_type": "execute_result"
    }
   ],
   "source": [
    "# 换手率\n",
    "perf.turnover(perf.transactions,perf.daily_mv_df)"
   ]
  },
  {
   "cell_type": "code",
   "execution_count": 62,
   "metadata": {
    "collapsed": false
   },
   "outputs": [
    {
     "data": {
      "text/html": [
       "<div>\n",
       "<style>\n",
       "    .dataframe thead tr:only-child th {\n",
       "        text-align: right;\n",
       "    }\n",
       "\n",
       "    .dataframe thead th {\n",
       "        text-align: left;\n",
       "    }\n",
       "\n",
       "    .dataframe tbody tr th {\n",
       "        vertical-align: top;\n",
       "    }\n",
       "</style>\n",
       "<table border=\"1\" class=\"dataframe\">\n",
       "  <thead>\n",
       "    <tr style=\"text-align: right;\">\n",
       "      <th></th>\n",
       "      <th>100 bps</th>\n",
       "      <th>200 bps</th>\n",
       "      <th>300 bps</th>\n",
       "      <th>400 bps</th>\n",
       "      <th>500 bps</th>\n",
       "    </tr>\n",
       "    <tr>\n",
       "      <th>datetime</th>\n",
       "      <th></th>\n",
       "      <th></th>\n",
       "      <th></th>\n",
       "      <th></th>\n",
       "      <th></th>\n",
       "    </tr>\n",
       "  </thead>\n",
       "  <tbody>\n",
       "    <tr>\n",
       "      <th>2016-10-26</th>\n",
       "      <td>0.999461</td>\n",
       "      <td>0.998963</td>\n",
       "      <td>0.998464</td>\n",
       "      <td>0.997965</td>\n",
       "      <td>0.997467</td>\n",
       "    </tr>\n",
       "    <tr>\n",
       "      <th>2016-10-27</th>\n",
       "      <td>0.999516</td>\n",
       "      <td>0.999017</td>\n",
       "      <td>0.998518</td>\n",
       "      <td>0.998020</td>\n",
       "      <td>0.997521</td>\n",
       "    </tr>\n",
       "    <tr>\n",
       "      <th>2016-10-28</th>\n",
       "      <td>0.999570</td>\n",
       "      <td>0.999072</td>\n",
       "      <td>0.998573</td>\n",
       "      <td>0.998074</td>\n",
       "      <td>0.997575</td>\n",
       "    </tr>\n",
       "    <tr>\n",
       "      <th>2016-10-31</th>\n",
       "      <td>0.999461</td>\n",
       "      <td>0.998963</td>\n",
       "      <td>0.998464</td>\n",
       "      <td>0.997965</td>\n",
       "      <td>0.997467</td>\n",
       "    </tr>\n",
       "    <tr>\n",
       "      <th>2016-11-01</th>\n",
       "      <td>0.999407</td>\n",
       "      <td>0.998908</td>\n",
       "      <td>0.998410</td>\n",
       "      <td>0.997911</td>\n",
       "      <td>0.997412</td>\n",
       "    </tr>\n",
       "  </tbody>\n",
       "</table>\n",
       "</div>"
      ],
      "text/plain": [
       "             100 bps   200 bps   300 bps   400 bps   500 bps\n",
       "datetime                                                    \n",
       "2016-10-26  0.999461  0.998963  0.998464  0.997965  0.997467\n",
       "2016-10-27  0.999516  0.999017  0.998518  0.998020  0.997521\n",
       "2016-10-28  0.999570  0.999072  0.998573  0.998074  0.997575\n",
       "2016-10-31  0.999461  0.998963  0.998464  0.997965  0.997467\n",
       "2016-11-01  0.999407  0.998908  0.998410  0.997911  0.997412"
      ]
     },
     "execution_count": 62,
     "metadata": {},
     "output_type": "execute_result"
    }
   ],
   "source": [
    "# 不同滑点下的净值曲线\n",
    "# 注：1bps = 0.0001\n",
    "# A股一个点是0.01 即100bps\n",
    "perf.slippage_sweep(perf.daily_returns,\n",
    "                    perf.transactions,\n",
    "                    perf.daily_mv_df,\n",
    "                    slippage_params=(100, 200, 300, 400, 500)).head()"
   ]
  },
  {
   "cell_type": "code",
   "execution_count": 64,
   "metadata": {
    "collapsed": false
   },
   "outputs": [
    {
     "data": {
      "text/plain": [
       "100   -0.001419\n",
       "200   -0.004058\n",
       "300   -0.006691\n",
       "400   -0.009319\n",
       "500   -0.011942\n",
       "dtype: float64"
      ]
     },
     "execution_count": 64,
     "metadata": {},
     "output_type": "execute_result"
    }
   ],
   "source": [
    "# 滑点敏感度 —— 不同滑点下对应的年化收益率\n",
    "perf.slippage_sensitivity(perf.daily_returns,\n",
    "                          perf.transactions,\n",
    "                          perf.daily_mv_df,\n",
    "                          slippage_range = range(100,5000,100)).head()"
   ]
  },
  {
   "cell_type": "code",
   "execution_count": 76,
   "metadata": {
    "collapsed": false
   },
   "outputs": [
    {
     "data": {
      "text/plain": [
       "0.1      0.296852\n",
       "1.1      0.296852\n",
       "2.1      0.296852\n",
       "3.1      0.296852\n",
       "4.1      0.296852\n",
       "5.1      0.296851\n",
       "6.1      0.296851\n",
       "7.1      0.296850\n",
       "8.1      0.296850\n",
       "9.1      0.296849\n",
       "10.1     0.296848\n",
       "11.1     0.296847\n",
       "12.1     0.296846\n",
       "13.1     0.296845\n",
       "14.1     0.296844\n",
       "15.1     0.296843\n",
       "16.1     0.296841\n",
       "17.1     0.296840\n",
       "18.1     0.296838\n",
       "19.1     0.296837\n",
       "20.1     0.296835\n",
       "21.1     0.296833\n",
       "22.1     0.296831\n",
       "23.1     0.296829\n",
       "24.1     0.296827\n",
       "25.1     0.296825\n",
       "26.1     0.296823\n",
       "27.1     0.296821\n",
       "28.1     0.296818\n",
       "29.1     0.296816\n",
       "           ...   \n",
       "270.1    0.293701\n",
       "271.1    0.293677\n",
       "272.1    0.293654\n",
       "273.1    0.293630\n",
       "274.1    0.293607\n",
       "275.1    0.293583\n",
       "276.1    0.293559\n",
       "277.1    0.293535\n",
       "278.1    0.293511\n",
       "279.1    0.293487\n",
       "280.1    0.293463\n",
       "281.1    0.293439\n",
       "282.1    0.293415\n",
       "283.1    0.293390\n",
       "284.1    0.293366\n",
       "285.1    0.293341\n",
       "286.1    0.293316\n",
       "287.1    0.293292\n",
       "288.1    0.293267\n",
       "289.1    0.293242\n",
       "290.1    0.293217\n",
       "291.1    0.293192\n",
       "292.1    0.293166\n",
       "293.1    0.293141\n",
       "294.1    0.293116\n",
       "295.1    0.293090\n",
       "296.1    0.293065\n",
       "297.1    0.293039\n",
       "298.1    0.293013\n",
       "299.1    0.292988\n",
       "Length: 300, dtype: float64"
      ]
     },
     "execution_count": 76,
     "metadata": {},
     "output_type": "execute_result"
    }
   ],
   "source": [
    "# 考虑资金量带来市场冲击后的修正夏普率\n",
    "# 默认入场资金从100000 - 300000000， 步长1000000\n",
    "# 返回指定资金量下的修正夏普率\n",
    "market_data = perf.market_data_panel().rename({\"close\":\"price\"})\n",
    "perf.capacity_sweep(perf.daily_returns,\n",
    "                    perf.transactions,\n",
    "                    market_data,\n",
    "                    bt_starting_capital=10000000,\n",
    "                    min_pv=100000,\n",
    "                    max_pv=300000000,\n",
    "                    step_size=1000000)"
   ]
  }
 ],
 "metadata": {
  "anaconda-cloud": {},
  "kernelspec": {
   "display_name": "Python [conda env:IIA]",
   "language": "python",
   "name": "conda-env-IIA-py"
  },
  "language_info": {
   "codemirror_mode": {
    "name": "ipython",
    "version": 3.0
   },
   "file_extension": ".py",
   "mimetype": "text/x-python",
   "name": "python",
   "nbconvert_exporter": "python",
   "pygments_lexer": "ipython3",
   "version": "3.6.1"
  }
 },
 "nbformat": 4,
 "nbformat_minor": 0
}